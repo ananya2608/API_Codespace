{
 "cells": [
  {
   "cell_type": "code",
   "execution_count": 1,
   "metadata": {},
   "outputs": [
    {
     "name": "stdout",
     "output_type": "stream",
     "text": [
      "Defaulting to user installation because normal site-packages is not writeable\n",
      "Requirement already satisfied: flask in c:\\users\\admin\\appdata\\roaming\\python\\python312\\site-packages (3.1.0)\n",
      "Requirement already satisfied: Werkzeug>=3.1 in c:\\users\\admin\\appdata\\roaming\\python\\python312\\site-packages (from flask) (3.1.3)\n",
      "Requirement already satisfied: Jinja2>=3.1.2 in c:\\users\\admin\\appdata\\roaming\\python\\python312\\site-packages (from flask) (3.1.5)\n",
      "Requirement already satisfied: itsdangerous>=2.2 in c:\\users\\admin\\appdata\\roaming\\python\\python312\\site-packages (from flask) (2.2.0)\n",
      "Requirement already satisfied: click>=8.1.3 in c:\\users\\admin\\appdata\\roaming\\python\\python312\\site-packages (from flask) (8.1.8)\n",
      "Requirement already satisfied: blinker>=1.9 in c:\\users\\admin\\appdata\\roaming\\python\\python312\\site-packages (from flask) (1.9.0)\n",
      "Requirement already satisfied: colorama in c:\\users\\admin\\appdata\\roaming\\python\\python312\\site-packages (from click>=8.1.3->flask) (0.4.6)\n",
      "Requirement already satisfied: MarkupSafe>=2.0 in c:\\users\\admin\\appdata\\roaming\\python\\python312\\site-packages (from Jinja2>=3.1.2->flask) (3.0.2)\n",
      "Note: you may need to restart the kernel to use updated packages.\n"
     ]
    },
    {
     "name": "stderr",
     "output_type": "stream",
     "text": [
      "\n",
      "[notice] A new release of pip is available: 24.3.1 -> 25.0.1\n",
      "[notice] To update, run: python.exe -m pip install --upgrade pip\n"
     ]
    }
   ],
   "source": [
    "pip install flask\n"
   ]
  },
  {
   "cell_type": "code",
   "execution_count": null,
   "metadata": {},
   "outputs": [
    {
     "name": "stdout",
     "output_type": "stream",
     "text": [
      " * Serving Flask app '__main__'\n",
      " * Debug mode: off\n"
     ]
    },
    {
     "name": "stderr",
     "output_type": "stream",
     "text": [
      "WARNING: This is a development server. Do not use it in a production deployment. Use a production WSGI server instead.\n",
      " * Running on all addresses (0.0.0.0)\n",
      " * Running on http://127.0.0.1:5000\n",
      " * Running on http://172.25.221.252:5000\n",
      "Press CTRL+C to quit\n",
      "172.25.221.252 - - [18/Feb/2025 18:16:36] \"GET / HTTP/1.1\" 404 -\n",
      "172.25.221.252 - - [18/Feb/2025 18:16:43] \"GET /htop HTTP/1.1\" 200 -\n"
     ]
    }
   ],
   "source": [
    "from flask import Flask\n",
    "import subprocess\n",
    "import os\n",
    "from datetime import datetime\n",
    "import pytz\n",
    "\n",
    "app = Flask(__name__)\n",
    "\n",
    "@app.route('/htop')\n",
    "def htop():\n",
    "    # Get system username\n",
    "    username = os.getenv(\"USER\") or os.getenv(\"USERNAME\") or \"codespace\"\n",
    "\n",
    "    # Get current IST time\n",
    "    ist = pytz.timezone('Asia/Kolkata')\n",
    "    server_time = datetime.now(ist).strftime('%Y-%m-%d %H:%M:%S.%f')\n",
    "\n",
    "    # Get system process list (compatible with Windows)\n",
    "    try:\n",
    "        if os.name == 'nt':  # Windows\n",
    "            top_output = subprocess.check_output([\"tasklist\"]).decode(\"utf-8\")\n",
    "        else:  # Linux/macOS\n",
    "            top_output = subprocess.check_output([\"top\", \"-b\", \"-n\", \"1\"]).decode(\"utf-8\")\n",
    "    except Exception as e:\n",
    "        top_output = f\"Error fetching process list: {str(e)}\"\n",
    "\n",
    "    # Construct response\n",
    "    response = f\"\"\"\n",
    "    <pre>\n",
    "    Name: Ananya Singhai\n",
    "    Username: ananya_api\n",
    "    Server Time (IST): {server_time}\n",
    "    \n",
    "    Process List:\n",
    "    {top_output}\n",
    "    </pre>\n",
    "    \"\"\"\n",
    "    return response\n",
    "\n",
    "if __name__ == '__main__':\n",
    "    app.run(host='0.0.0.0', port=5000)\n"
   ]
  }
 ],
 "metadata": {
  "kernelspec": {
   "display_name": "Python 3",
   "language": "python",
   "name": "python3"
  },
  "language_info": {
   "codemirror_mode": {
    "name": "ipython",
    "version": 3
   },
   "file_extension": ".py",
   "mimetype": "text/x-python",
   "name": "python",
   "nbconvert_exporter": "python",
   "pygments_lexer": "ipython3",
   "version": "3.12.1"
  }
 },
 "nbformat": 4,
 "nbformat_minor": 2
}
